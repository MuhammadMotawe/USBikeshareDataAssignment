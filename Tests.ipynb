{
 "cells": [
  {
   "cell_type": "code",
   "execution_count": 13,
   "metadata": {},
   "outputs": [],
   "source": [
    "import pandas as pd\n",
    "import numpy as np\n",
    "import datetime"
   ]
  },
  {
   "cell_type": "code",
   "execution_count": 2,
   "metadata": {},
   "outputs": [],
   "source": [
    "# read csv file\n",
    "washington = pd.read_csv(\"washington.csv\")"
   ]
  },
  {
   "cell_type": "code",
   "execution_count": 3,
   "metadata": {},
   "outputs": [],
   "source": [
    "# convert to datetime\n",
    "washington['Start Time'] = pd.to_datetime(washington['Start Time'])"
   ]
  },
  {
   "cell_type": "code",
   "execution_count": 4,
   "metadata": {},
   "outputs": [
    {
     "name": "stdout",
     "output_type": "stream",
     "text": [
      "6\n"
     ]
    }
   ],
   "source": [
    "# extract month\n",
    "month = washington['Start Time'].dt.month.value_counts().idxmax()\n",
    "print(month)"
   ]
  },
  {
   "cell_type": "code",
   "execution_count": 15,
   "metadata": {},
   "outputs": [
    {
     "name": "stdout",
     "output_type": "stream",
     "text": [
      "   Unnamed: 0          Start Time            End Time  Trip Duration  \\\n",
      "0     1621326 2017-06-21 08:36:34 2017-06-21 08:44:43        489.066   \n",
      "1      482740 2017-03-11 10:40:00 2017-03-11 10:46:00        402.549   \n",
      "2     1330037 2017-05-30 01:02:59 2017-05-30 01:13:37        637.251   \n",
      "3      665458 2017-04-02 07:48:35 2017-04-02 08:19:03       1827.341   \n",
      "4     1481135 2017-06-10 08:36:28 2017-06-10 09:02:17       1549.427   \n",
      "\n",
      "                                 Start Station                   End Station  \\\n",
      "0                         14th & Belmont St NW                15th & K St NW   \n",
      "1                   Yuma St & Tenley Circle NW  Connecticut Ave & Yuma St NW   \n",
      "2               17th St & Massachusetts Ave NW                 5th & K St NW   \n",
      "3             Constitution Ave & 2nd St NW/DOL    M St & Pennsylvania Ave NW   \n",
      "4  Henry Bacon Dr & Lincoln Memorial Circle NW         Maine Ave & 7th St SW   \n",
      "\n",
      "    User Type  \n",
      "0  Subscriber  \n",
      "1  Subscriber  \n",
      "2  Subscriber  \n",
      "3    Customer  \n",
      "4  Subscriber  \n",
      "2587 days 03:36:47\n",
      "0 days 00:12:25.099356\n"
     ]
    }
   ],
   "source": [
    "print(washington.head())\n",
    "total_travel_time = washington['End Time'] - washington['Start Time']\n",
    "print(sum(total_travel_time, datetime.timedelta(0,0)))\n",
    "print(total_travel_time.mean())"
   ]
  }
 ],
 "metadata": {
  "kernelspec": {
   "display_name": "Python 3",
   "language": "python",
   "name": "python3"
  },
  "language_info": {
   "codemirror_mode": {
    "name": "ipython",
    "version": 3
   },
   "file_extension": ".py",
   "mimetype": "text/x-python",
   "name": "python",
   "nbconvert_exporter": "python",
   "pygments_lexer": "ipython3",
   "version": "3.7.6"
  }
 },
 "nbformat": 4,
 "nbformat_minor": 4
}
